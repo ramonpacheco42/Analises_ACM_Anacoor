{
 "cells": [
  {
   "cell_type": "code",
   "execution_count": 2,
   "id": "d776428b",
   "metadata": {},
   "outputs": [],
   "source": [
    "# Carregando as bíbliotecas \n",
    "import pandas as pd\n",
    "import prince\n",
    "from scipy.stats import chi2_contingency"
   ]
  },
  {
   "cell_type": "code",
   "execution_count": 3,
   "id": "a0263626",
   "metadata": {},
   "outputs": [
    {
     "data": {
      "text/html": [
       "<div>\n",
       "<style scoped>\n",
       "    .dataframe tbody tr th:only-of-type {\n",
       "        vertical-align: middle;\n",
       "    }\n",
       "\n",
       "    .dataframe tbody tr th {\n",
       "        vertical-align: top;\n",
       "    }\n",
       "\n",
       "    .dataframe thead th {\n",
       "        text-align: right;\n",
       "    }\n",
       "</style>\n",
       "<table border=\"1\" class=\"dataframe\">\n",
       "  <thead>\n",
       "    <tr style=\"text-align: right;\">\n",
       "      <th></th>\n",
       "      <th>Estudante</th>\n",
       "      <th>Perfil</th>\n",
       "      <th>Tipo de Aplicação</th>\n",
       "    </tr>\n",
       "  </thead>\n",
       "  <tbody>\n",
       "    <tr>\n",
       "      <th>0</th>\n",
       "      <td>Gabriela</td>\n",
       "      <td>Conservador</td>\n",
       "      <td>Poupança</td>\n",
       "    </tr>\n",
       "    <tr>\n",
       "      <th>1</th>\n",
       "      <td>Luiz Felipe</td>\n",
       "      <td>Conservador</td>\n",
       "      <td>Poupança</td>\n",
       "    </tr>\n",
       "    <tr>\n",
       "      <th>2</th>\n",
       "      <td>Patrícia</td>\n",
       "      <td>Conservador</td>\n",
       "      <td>Poupança</td>\n",
       "    </tr>\n",
       "    <tr>\n",
       "      <th>3</th>\n",
       "      <td>Gustavo</td>\n",
       "      <td>Conservador</td>\n",
       "      <td>Poupança</td>\n",
       "    </tr>\n",
       "    <tr>\n",
       "      <th>4</th>\n",
       "      <td>Letícia</td>\n",
       "      <td>Conservador</td>\n",
       "      <td>Poupança</td>\n",
       "    </tr>\n",
       "  </tbody>\n",
       "</table>\n",
       "</div>"
      ],
      "text/plain": [
       "     Estudante       Perfil Tipo de Aplicação\n",
       "0     Gabriela  Conservador          Poupança\n",
       "1  Luiz Felipe  Conservador          Poupança\n",
       "2     Patrícia  Conservador          Poupança\n",
       "3      Gustavo  Conservador          Poupança\n",
       "4      Letícia  Conservador          Poupança"
      ]
     },
     "execution_count": 3,
     "metadata": {},
     "output_type": "execute_result"
    }
   ],
   "source": [
    "# Importando o DataFrame\n",
    "df = pd.read_excel('Perfil Aplicação.xlsx')\n",
    "df.head()"
   ]
  },
  {
   "cell_type": "code",
   "execution_count": 4,
   "id": "72407851",
   "metadata": {},
   "outputs": [
    {
     "data": {
      "text/plain": [
       "100"
      ]
     },
     "execution_count": 4,
     "metadata": {},
     "output_type": "execute_result"
    }
   ],
   "source": [
    "# Verificando se foi importada todas as linhas\n",
    "len(df)"
   ]
  },
  {
   "cell_type": "code",
   "execution_count": 5,
   "id": "969f93bf",
   "metadata": {},
   "outputs": [
    {
     "name": "stdout",
     "output_type": "stream",
     "text": [
      "<class 'pandas.core.frame.DataFrame'>\n",
      "RangeIndex: 100 entries, 0 to 99\n",
      "Data columns (total 3 columns):\n",
      " #   Column             Non-Null Count  Dtype \n",
      "---  ------             --------------  ----- \n",
      " 0   Estudante          100 non-null    object\n",
      " 1   Perfil             100 non-null    object\n",
      " 2   Tipo de Aplicação  100 non-null    object\n",
      "dtypes: object(3)\n",
      "memory usage: 2.5+ KB\n"
     ]
    }
   ],
   "source": [
    "# Verificando se existe algum valor em branco\n",
    "df.info()"
   ]
  },
  {
   "cell_type": "code",
   "execution_count": 6,
   "id": "f816b002",
   "metadata": {},
   "outputs": [
    {
     "data": {
      "text/html": [
       "<div>\n",
       "<style scoped>\n",
       "    .dataframe tbody tr th:only-of-type {\n",
       "        vertical-align: middle;\n",
       "    }\n",
       "\n",
       "    .dataframe tbody tr th {\n",
       "        vertical-align: top;\n",
       "    }\n",
       "\n",
       "    .dataframe thead th {\n",
       "        text-align: right;\n",
       "    }\n",
       "</style>\n",
       "<table border=\"1\" class=\"dataframe\">\n",
       "  <thead>\n",
       "    <tr style=\"text-align: right;\">\n",
       "      <th>Tipo de Aplicação</th>\n",
       "      <th>Ações</th>\n",
       "      <th>CDB</th>\n",
       "      <th>Poupança</th>\n",
       "    </tr>\n",
       "    <tr>\n",
       "      <th>Perfil</th>\n",
       "      <th></th>\n",
       "      <th></th>\n",
       "      <th></th>\n",
       "    </tr>\n",
       "  </thead>\n",
       "  <tbody>\n",
       "    <tr>\n",
       "      <th>Agressivo</th>\n",
       "      <td>36</td>\n",
       "      <td>20</td>\n",
       "      <td>2</td>\n",
       "    </tr>\n",
       "    <tr>\n",
       "      <th>Conservador</th>\n",
       "      <td>5</td>\n",
       "      <td>4</td>\n",
       "      <td>8</td>\n",
       "    </tr>\n",
       "    <tr>\n",
       "      <th>Moderado</th>\n",
       "      <td>4</td>\n",
       "      <td>16</td>\n",
       "      <td>5</td>\n",
       "    </tr>\n",
       "  </tbody>\n",
       "</table>\n",
       "</div>"
      ],
      "text/plain": [
       "Tipo de Aplicação  Ações  CDB  Poupança\n",
       "Perfil                                 \n",
       "Agressivo             36   20         2\n",
       "Conservador            5    4         8\n",
       "Moderado               4   16         5"
      ]
     },
     "execution_count": 6,
     "metadata": {},
     "output_type": "execute_result"
    }
   ],
   "source": [
    "# Montando a tabela de frequência absoluta observada\n",
    "tabela = pd.crosstab(df['Perfil'], df['Tipo de Aplicação'])\n",
    "tabela"
   ]
  },
  {
   "cell_type": "code",
   "execution_count": 7,
   "id": "1b2a2031",
   "metadata": {},
   "outputs": [
    {
     "name": "stdout",
     "output_type": "stream",
     "text": [
      "estatística qui²: 31.764164976335362\n",
      "p-valor da estatística: 2.137594051381398e-06\n",
      "graus de liberdade: 4\n"
     ]
    }
   ],
   "source": [
    "# Calculando a estatística qui², p-valor e graus de liberdade\n",
    "chi2, pvalor, df , freq_esp = chi2_contingency(tabela)\n",
    "print(f\"estatística qui²: {chi2}\") # estatística qui²\n",
    "print(f\"p-valor da estatística: {pvalor}\") # p-valor da estatística\n",
    "print(f\"graus de liberdade: {df}\") # graus de liberdade"
   ]
  },
  {
   "cell_type": "code",
   "execution_count": 8,
   "id": "49e3214b",
   "metadata": {},
   "outputs": [],
   "source": [
    "#Inicializando a instância da Anacor\n",
    "ca = prince.CA()"
   ]
  },
  {
   "cell_type": "code",
   "execution_count": 9,
   "id": "e6149774",
   "metadata": {},
   "outputs": [
    {
     "data": {
      "text/html": [
       "<div>\n",
       "<style scoped>\n",
       "    .dataframe tbody tr th:only-of-type {\n",
       "        vertical-align: middle;\n",
       "    }\n",
       "\n",
       "    .dataframe tbody tr th {\n",
       "        vertical-align: top;\n",
       "    }\n",
       "\n",
       "    .dataframe thead th {\n",
       "        text-align: right;\n",
       "    }\n",
       "</style>\n",
       "<table border=\"1\" class=\"dataframe\">\n",
       "  <thead>\n",
       "    <tr style=\"text-align: right;\">\n",
       "      <th>Investimento</th>\n",
       "      <th>Ações</th>\n",
       "      <th>CDB</th>\n",
       "      <th>Poupança</th>\n",
       "    </tr>\n",
       "    <tr>\n",
       "      <th>Perfil</th>\n",
       "      <th></th>\n",
       "      <th></th>\n",
       "      <th></th>\n",
       "    </tr>\n",
       "  </thead>\n",
       "  <tbody>\n",
       "    <tr>\n",
       "      <th>Agressivo</th>\n",
       "      <td>36</td>\n",
       "      <td>20</td>\n",
       "      <td>2</td>\n",
       "    </tr>\n",
       "    <tr>\n",
       "      <th>Conservador</th>\n",
       "      <td>5</td>\n",
       "      <td>4</td>\n",
       "      <td>8</td>\n",
       "    </tr>\n",
       "    <tr>\n",
       "      <th>Moderado</th>\n",
       "      <td>4</td>\n",
       "      <td>16</td>\n",
       "      <td>5</td>\n",
       "    </tr>\n",
       "  </tbody>\n",
       "</table>\n",
       "</div>"
      ],
      "text/plain": [
       "Investimento  Ações  CDB  Poupança\n",
       "Perfil                            \n",
       "Agressivo        36   20         2\n",
       "Conservador       5    4         8\n",
       "Moderado          4   16         5"
      ]
     },
     "execution_count": 9,
     "metadata": {},
     "output_type": "execute_result"
    }
   ],
   "source": [
    "# Renomeando as linhas e colunas do dataframe\n",
    "tabela.columns.rename('Investimento', inplace=True)\n",
    "tabela.index.rename('Perfil', inplace=True)\n",
    "tabela"
   ]
  },
  {
   "cell_type": "code",
   "execution_count": 12,
   "id": "2a0f3076",
   "metadata": {},
   "outputs": [],
   "source": [
    "# Fazendo o treinamento do modelo \n",
    "ca = ca.fit(tabela)"
   ]
  },
  {
   "cell_type": "code",
   "execution_count": 13,
   "id": "d56d7e65",
   "metadata": {},
   "outputs": [
    {
     "name": "stdout",
     "output_type": "stream",
     "text": [
      "                    0         1\n",
      "Agressivo   -0.396262 -0.065513\n",
      "Conservador  0.786648 -0.433800\n",
      "Moderado     0.384408  0.446974\n"
     ]
    }
   ],
   "source": [
    "# Obtendo as coordenadas da linha.\n",
    "print(ca.row_coordinates(tabela))"
   ]
  },
  {
   "cell_type": "code",
   "execution_count": 14,
   "id": "49ab293d",
   "metadata": {},
   "outputs": [
    {
     "name": "stdout",
     "output_type": "stream",
     "text": [
      "                 0         1\n",
      "Ações    -0.404692 -0.209522\n",
      "CDB       0.071019  0.353291\n",
      "Poupança  1.024690 -0.313542\n"
     ]
    }
   ],
   "source": [
    "# Obtendo as coordenadas da Coluna\n",
    "print(ca.column_coordinates(tabela))"
   ]
  },
  {
   "cell_type": "code",
   "execution_count": 15,
   "id": "8097741a",
   "metadata": {},
   "outputs": [
    {
     "name": "stdout",
     "output_type": "stream",
     "text": [
      "[0.23321487282583833, 0.08442677693751505]\n"
     ]
    }
   ],
   "source": [
    "# Obtendo os eigenvalues\n",
    "print(ca.eigenvalues_)"
   ]
  },
  {
   "cell_type": "code",
   "execution_count": 16,
   "id": "092ff7ef",
   "metadata": {},
   "outputs": [
    {
     "name": "stdout",
     "output_type": "stream",
     "text": [
      "0.3176416497633535\n"
     ]
    }
   ],
   "source": [
    "# Obtendo a inércia principal total\n",
    "print(ca.total_inertia_)"
   ]
  },
  {
   "cell_type": "code",
   "execution_count": 20,
   "id": "67353e36",
   "metadata": {},
   "outputs": [
    {
     "name": "stdout",
     "output_type": "stream",
     "text": [
      "[0.7342074724759362, 0.2657925275240634]\n"
     ]
    }
   ],
   "source": [
    "# Inércia explicada por dimensão\n",
    "print(ca.explained_inertia_)"
   ]
  },
  {
   "cell_type": "code",
   "execution_count": 18,
   "id": "4c8190e2",
   "metadata": {},
   "outputs": [
    {
     "name": "stdout",
     "output_type": "stream",
     "text": [
      "Agressivo      0.58\n",
      "Conservador    0.17\n",
      "Moderado       0.25\n",
      "dtype: float64\n"
     ]
    }
   ],
   "source": [
    "# Massas em linhas\n",
    "print(ca.row_masses_)"
   ]
  },
  {
   "cell_type": "code",
   "execution_count": 21,
   "metadata": {},
   "outputs": [
    {
     "name": "stdout",
     "output_type": "stream",
     "text": [
      "Ações       0.45\n",
      "CDB         0.40\n",
      "Poupança    0.15\n",
      "dtype: float64\n"
     ]
    }
   ],
   "source": [
    "# Massas em Colunas\n",
    "print(ca.col_masses_)"
   ]
  },
  {
   "cell_type": "code",
   "execution_count": 24,
   "id": "872e95e1",
   "metadata": {},
   "outputs": [
    {
     "data": {
      "image/png": "[encoded data removed]",
      "text/plain": [
       "<Figure size 1000x1000 with 1 Axes>"
      ]
     },
     "metadata": {},
     "output_type": "display_data"
    }
   ],
   "source": [
    "# Plotando o mapa perceptual\n",
    "ax = ca.plot_coordinates(\n",
    "    X=tabela,\n",
    "    ax=None,\n",
    "    figsize=(10,10),\n",
    "    x_component=0,\n",
    "    y_component=1,\n",
    "    show_row_labels=True,\n",
    "    show_col_labels=True\n",
    ")"
   ]
  },
  {
   "cell_type": "code",
   "execution_count": 25,
   "id": "6e694b3d",
   "metadata": {},
   "outputs": [],
   "source": [
    "# Plotando o mapa percentual interativo\n",
    "import plotly.graph_objects as go\n",
    "import plotly.io as pio"
   ]
  },
  {
   "cell_type": "code",
   "execution_count": 26,
   "id": "9157253d",
   "metadata": {},
   "outputs": [],
   "source": [
    "pio.renderers.default='browser'"
   ]
  },
  {
   "cell_type": "code",
   "execution_count": 27,
   "id": "7efaaa71",
   "metadata": {},
   "outputs": [],
   "source": [
    "chart_df = pd.DataFrame({'obs_x':ca.row_coordinates(tabela)[0].values,\n",
    "                         'obs_y':ca.row_coordinates(tabela)[1].values})"
   ]
  },
  {
   "cell_type": "code",
   "execution_count": 28,
   "id": "88c4aa45",
   "metadata": {},
   "outputs": [],
   "source": [
    "fig = go.Figure(data=go.Scatter(x=chart_df['obs_x'],\n",
    "                                y=chart_df['obs_y'],\n",
    "                                name=tabela.index.name,\n",
    "                                textposition='top center',\n",
    "                                text=tabela.index,\n",
    "                                mode='markers+text',\n",
    "))"
   ]
  },
  {
   "cell_type": "code",
   "execution_count": 30,
   "id": "d219fd90",
   "metadata": {},
   "outputs": [],
   "source": [
    "# Criando o gráfico interativo\n",
    "fig.add_trace(go.Scatter(\n",
    "    x=ca.column_coordinates(tabela)[0].values,\n",
    "    mode='markers+text',\n",
    "    textposition='top center',\n",
    "    y=ca.column_coordinates(tabela)[1].values,\n",
    "    text=ca.column_coordinates(tabela).index\n",
    "))"
   ]
  },
  {
   "cell_type": "code",
   "execution_count": 31,
   "id": "2c7b0bb3",
   "metadata": {},
   "outputs": [],
   "source": [
    "# Ajustando as medidas de layout do gráfico criado acima\n",
    "fig.update_layout(\n",
    "    autosize=False,\n",
    "    width=800,\n",
    "    height=800,\n",
    "    title_text='Coordenadas principais'\n",
    ")"
   ]
  },
  {
   "cell_type": "code",
   "execution_count": 32,
   "id": "7ea0b128",
   "metadata": {},
   "outputs": [],
   "source": []
  },
  {
   "cell_type": "code",
   "execution_count": null,
   "id": "e4be2760",
   "metadata": {},
   "outputs": [],
   "source": []
  }
 ],
 "metadata": {
  "kernelspec": {
   "display_name": "Python 3",
   "language": "python",
   "name": "python3"
  },
  "language_info": {
   "codemirror_mode": {
    "name": "ipython",
    "version": 3
   },
   "file_extension": ".py",
   "mimetype": "text/x-python",
   "name": "python",
   "nbconvert_exporter": "python",
   "pygments_lexer": "ipython3",
   "version": "3.9.16"
  },
  "vscode": {
   "interpreter": {
    "hash": "a665b5d41d17b532ea9890333293a1b812fa0b73c9c25c950b3cedf1bebd0438"
   }
  }
 },
 "nbformat": 4,
 "nbformat_minor": 5
}
