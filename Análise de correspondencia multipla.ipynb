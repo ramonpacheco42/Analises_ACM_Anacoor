{
 "cells": [
  {
   "cell_type": "code",
   "execution_count": 25,
   "metadata": {},
   "outputs": [],
   "source": [
    "# importando as bíbliotecas\n",
    "import pandas as pd\n",
    "import prince\n",
    "from scipy.stats import chi2_contingency"
   ]
  },
  {
   "cell_type": "code",
   "execution_count": 26,
   "metadata": {},
   "outputs": [
    {
     "data": {
      "text/html": [
       "<div>\n",
       "<style scoped>\n",
       "    .dataframe tbody tr th:only-of-type {\n",
       "        vertical-align: middle;\n",
       "    }\n",
       "\n",
       "    .dataframe tbody tr th {\n",
       "        vertical-align: top;\n",
       "    }\n",
       "\n",
       "    .dataframe thead th {\n",
       "        text-align: right;\n",
       "    }\n",
       "</style>\n",
       "<table border=\"1\" class=\"dataframe\">\n",
       "  <thead>\n",
       "    <tr style=\"text-align: right;\">\n",
       "      <th></th>\n",
       "      <th>estudante</th>\n",
       "      <th>perfil</th>\n",
       "      <th>aplicacao</th>\n",
       "      <th>estado_civil</th>\n",
       "    </tr>\n",
       "  </thead>\n",
       "  <tbody>\n",
       "    <tr>\n",
       "      <th>0</th>\n",
       "      <td>Gabriela</td>\n",
       "      <td>Conservador</td>\n",
       "      <td>Poupanca</td>\n",
       "      <td>Casado</td>\n",
       "    </tr>\n",
       "    <tr>\n",
       "      <th>1</th>\n",
       "      <td>Luiz Felipe</td>\n",
       "      <td>Conservador</td>\n",
       "      <td>Poupanca</td>\n",
       "      <td>Casado</td>\n",
       "    </tr>\n",
       "    <tr>\n",
       "      <th>2</th>\n",
       "      <td>Patrícia</td>\n",
       "      <td>Conservador</td>\n",
       "      <td>Poupanca</td>\n",
       "      <td>Casado</td>\n",
       "    </tr>\n",
       "    <tr>\n",
       "      <th>3</th>\n",
       "      <td>Gustavo</td>\n",
       "      <td>Conservador</td>\n",
       "      <td>Poupanca</td>\n",
       "      <td>Solteiro</td>\n",
       "    </tr>\n",
       "    <tr>\n",
       "      <th>4</th>\n",
       "      <td>Letícia</td>\n",
       "      <td>Conservador</td>\n",
       "      <td>Poupanca</td>\n",
       "      <td>Casado</td>\n",
       "    </tr>\n",
       "    <tr>\n",
       "      <th>...</th>\n",
       "      <td>...</td>\n",
       "      <td>...</td>\n",
       "      <td>...</td>\n",
       "      <td>...</td>\n",
       "    </tr>\n",
       "    <tr>\n",
       "      <th>95</th>\n",
       "      <td>Sheila</td>\n",
       "      <td>Agressivo</td>\n",
       "      <td>Acoes</td>\n",
       "      <td>Solteiro</td>\n",
       "    </tr>\n",
       "    <tr>\n",
       "      <th>96</th>\n",
       "      <td>Pedro</td>\n",
       "      <td>Agressivo</td>\n",
       "      <td>Acoes</td>\n",
       "      <td>Solteiro</td>\n",
       "    </tr>\n",
       "    <tr>\n",
       "      <th>97</th>\n",
       "      <td>Horácio</td>\n",
       "      <td>Agressivo</td>\n",
       "      <td>Acoes</td>\n",
       "      <td>Solteiro</td>\n",
       "    </tr>\n",
       "    <tr>\n",
       "      <th>98</th>\n",
       "      <td>Leandro</td>\n",
       "      <td>Agressivo</td>\n",
       "      <td>Acoes</td>\n",
       "      <td>Solteiro</td>\n",
       "    </tr>\n",
       "    <tr>\n",
       "      <th>99</th>\n",
       "      <td>Estela</td>\n",
       "      <td>Agressivo</td>\n",
       "      <td>Acoes</td>\n",
       "      <td>Solteiro</td>\n",
       "    </tr>\n",
       "  </tbody>\n",
       "</table>\n",
       "<p>100 rows × 4 columns</p>\n",
       "</div>"
      ],
      "text/plain": [
       "      estudante       perfil aplicacao estado_civil\n",
       "0      Gabriela  Conservador  Poupanca       Casado\n",
       "1   Luiz Felipe  Conservador  Poupanca       Casado\n",
       "2      Patrícia  Conservador  Poupanca       Casado\n",
       "3       Gustavo  Conservador  Poupanca     Solteiro\n",
       "4       Letícia  Conservador  Poupanca       Casado\n",
       "..          ...          ...       ...          ...\n",
       "95       Sheila    Agressivo     Acoes     Solteiro\n",
       "96        Pedro    Agressivo     Acoes     Solteiro\n",
       "97      Horácio    Agressivo     Acoes     Solteiro\n",
       "98      Leandro    Agressivo     Acoes     Solteiro\n",
       "99       Estela    Agressivo     Acoes     Solteiro\n",
       "\n",
       "[100 rows x 4 columns]"
      ]
     },
     "execution_count": 26,
     "metadata": {},
     "output_type": "execute_result"
    }
   ],
   "source": [
    "df = pd.read_excel('Perfil Aplicação Civil.xlsx')\n",
    "df"
   ]
  },
  {
   "cell_type": "code",
   "execution_count": 27,
   "metadata": {},
   "outputs": [
    {
     "data": {
      "text/html": [
       "<div>\n",
       "<style scoped>\n",
       "    .dataframe tbody tr th:only-of-type {\n",
       "        vertical-align: middle;\n",
       "    }\n",
       "\n",
       "    .dataframe tbody tr th {\n",
       "        vertical-align: top;\n",
       "    }\n",
       "\n",
       "    .dataframe thead th {\n",
       "        text-align: right;\n",
       "    }\n",
       "</style>\n",
       "<table border=\"1\" class=\"dataframe\">\n",
       "  <thead>\n",
       "    <tr style=\"text-align: right;\">\n",
       "      <th></th>\n",
       "      <th>perfil</th>\n",
       "      <th>aplicacao</th>\n",
       "      <th>estado_civil</th>\n",
       "    </tr>\n",
       "  </thead>\n",
       "  <tbody>\n",
       "    <tr>\n",
       "      <th>0</th>\n",
       "      <td>Conservador</td>\n",
       "      <td>Poupanca</td>\n",
       "      <td>Casado</td>\n",
       "    </tr>\n",
       "    <tr>\n",
       "      <th>1</th>\n",
       "      <td>Conservador</td>\n",
       "      <td>Poupanca</td>\n",
       "      <td>Casado</td>\n",
       "    </tr>\n",
       "    <tr>\n",
       "      <th>2</th>\n",
       "      <td>Conservador</td>\n",
       "      <td>Poupanca</td>\n",
       "      <td>Casado</td>\n",
       "    </tr>\n",
       "    <tr>\n",
       "      <th>3</th>\n",
       "      <td>Conservador</td>\n",
       "      <td>Poupanca</td>\n",
       "      <td>Solteiro</td>\n",
       "    </tr>\n",
       "    <tr>\n",
       "      <th>4</th>\n",
       "      <td>Conservador</td>\n",
       "      <td>Poupanca</td>\n",
       "      <td>Casado</td>\n",
       "    </tr>\n",
       "    <tr>\n",
       "      <th>...</th>\n",
       "      <td>...</td>\n",
       "      <td>...</td>\n",
       "      <td>...</td>\n",
       "    </tr>\n",
       "    <tr>\n",
       "      <th>95</th>\n",
       "      <td>Agressivo</td>\n",
       "      <td>Acoes</td>\n",
       "      <td>Solteiro</td>\n",
       "    </tr>\n",
       "    <tr>\n",
       "      <th>96</th>\n",
       "      <td>Agressivo</td>\n",
       "      <td>Acoes</td>\n",
       "      <td>Solteiro</td>\n",
       "    </tr>\n",
       "    <tr>\n",
       "      <th>97</th>\n",
       "      <td>Agressivo</td>\n",
       "      <td>Acoes</td>\n",
       "      <td>Solteiro</td>\n",
       "    </tr>\n",
       "    <tr>\n",
       "      <th>98</th>\n",
       "      <td>Agressivo</td>\n",
       "      <td>Acoes</td>\n",
       "      <td>Solteiro</td>\n",
       "    </tr>\n",
       "    <tr>\n",
       "      <th>99</th>\n",
       "      <td>Agressivo</td>\n",
       "      <td>Acoes</td>\n",
       "      <td>Solteiro</td>\n",
       "    </tr>\n",
       "  </tbody>\n",
       "</table>\n",
       "<p>100 rows × 3 columns</p>\n",
       "</div>"
      ],
      "text/plain": [
       "         perfil aplicacao estado_civil\n",
       "0   Conservador  Poupanca       Casado\n",
       "1   Conservador  Poupanca       Casado\n",
       "2   Conservador  Poupanca       Casado\n",
       "3   Conservador  Poupanca     Solteiro\n",
       "4   Conservador  Poupanca       Casado\n",
       "..          ...       ...          ...\n",
       "95    Agressivo     Acoes     Solteiro\n",
       "96    Agressivo     Acoes     Solteiro\n",
       "97    Agressivo     Acoes     Solteiro\n",
       "98    Agressivo     Acoes     Solteiro\n",
       "99    Agressivo     Acoes     Solteiro\n",
       "\n",
       "[100 rows x 3 columns]"
      ]
     },
     "execution_count": 27,
     "metadata": {},
     "output_type": "execute_result"
    }
   ],
   "source": [
    "# Tirando colunas que não vão fazer parte do modelo\n",
    "df = df.drop(columns=['estudante'])\n",
    "df"
   ]
  },
  {
   "cell_type": "code",
   "execution_count": 28,
   "metadata": {},
   "outputs": [],
   "source": [
    "# Criando e análisando as tabelas de contingência\n",
    "tabela_mca_1 = pd.crosstab(df['perfil'], df['aplicacao'])\n",
    "tabela_mca_2 = pd.crosstab(df['perfil'], df['estado_civil'])\n",
    "tabela_mca_3 = pd.crosstab(df['aplicacao'], df['estado_civil'])"
   ]
  },
  {
   "cell_type": "code",
   "execution_count": 29,
   "metadata": {},
   "outputs": [
    {
     "data": {
      "text/html": [
       "<div>\n",
       "<style scoped>\n",
       "    .dataframe tbody tr th:only-of-type {\n",
       "        vertical-align: middle;\n",
       "    }\n",
       "\n",
       "    .dataframe tbody tr th {\n",
       "        vertical-align: top;\n",
       "    }\n",
       "\n",
       "    .dataframe thead th {\n",
       "        text-align: right;\n",
       "    }\n",
       "</style>\n",
       "<table border=\"1\" class=\"dataframe\">\n",
       "  <thead>\n",
       "    <tr style=\"text-align: right;\">\n",
       "      <th>aplicacao</th>\n",
       "      <th>Acoes</th>\n",
       "      <th>CDB</th>\n",
       "      <th>Poupanca</th>\n",
       "    </tr>\n",
       "    <tr>\n",
       "      <th>perfil</th>\n",
       "      <th></th>\n",
       "      <th></th>\n",
       "      <th></th>\n",
       "    </tr>\n",
       "  </thead>\n",
       "  <tbody>\n",
       "    <tr>\n",
       "      <th>Agressivo</th>\n",
       "      <td>36</td>\n",
       "      <td>20</td>\n",
       "      <td>2</td>\n",
       "    </tr>\n",
       "    <tr>\n",
       "      <th>Conservador</th>\n",
       "      <td>5</td>\n",
       "      <td>4</td>\n",
       "      <td>8</td>\n",
       "    </tr>\n",
       "    <tr>\n",
       "      <th>Moderado</th>\n",
       "      <td>4</td>\n",
       "      <td>16</td>\n",
       "      <td>5</td>\n",
       "    </tr>\n",
       "  </tbody>\n",
       "</table>\n",
       "</div>"
      ],
      "text/plain": [
       "aplicacao    Acoes  CDB  Poupanca\n",
       "perfil                           \n",
       "Agressivo       36   20         2\n",
       "Conservador      5    4         8\n",
       "Moderado         4   16         5"
      ]
     },
     "execution_count": 29,
     "metadata": {},
     "output_type": "execute_result"
    }
   ],
   "source": [
    "tabela_mca_1"
   ]
  },
  {
   "cell_type": "code",
   "execution_count": 30,
   "metadata": {},
   "outputs": [
    {
     "data": {
      "text/html": [
       "<div>\n",
       "<style scoped>\n",
       "    .dataframe tbody tr th:only-of-type {\n",
       "        vertical-align: middle;\n",
       "    }\n",
       "\n",
       "    .dataframe tbody tr th {\n",
       "        vertical-align: top;\n",
       "    }\n",
       "\n",
       "    .dataframe thead th {\n",
       "        text-align: right;\n",
       "    }\n",
       "</style>\n",
       "<table border=\"1\" class=\"dataframe\">\n",
       "  <thead>\n",
       "    <tr style=\"text-align: right;\">\n",
       "      <th>estado_civil</th>\n",
       "      <th>Casado</th>\n",
       "      <th>Solteiro</th>\n",
       "    </tr>\n",
       "    <tr>\n",
       "      <th>perfil</th>\n",
       "      <th></th>\n",
       "      <th></th>\n",
       "    </tr>\n",
       "  </thead>\n",
       "  <tbody>\n",
       "    <tr>\n",
       "      <th>Agressivo</th>\n",
       "      <td>17</td>\n",
       "      <td>41</td>\n",
       "    </tr>\n",
       "    <tr>\n",
       "      <th>Conservador</th>\n",
       "      <td>12</td>\n",
       "      <td>5</td>\n",
       "    </tr>\n",
       "    <tr>\n",
       "      <th>Moderado</th>\n",
       "      <td>14</td>\n",
       "      <td>11</td>\n",
       "    </tr>\n",
       "  </tbody>\n",
       "</table>\n",
       "</div>"
      ],
      "text/plain": [
       "estado_civil  Casado  Solteiro\n",
       "perfil                        \n",
       "Agressivo         17        41\n",
       "Conservador       12         5\n",
       "Moderado          14        11"
      ]
     },
     "execution_count": 30,
     "metadata": {},
     "output_type": "execute_result"
    }
   ],
   "source": [
    "tabela_mca_2"
   ]
  },
  {
   "cell_type": "code",
   "execution_count": 31,
   "metadata": {},
   "outputs": [
    {
     "data": {
      "text/html": [
       "<div>\n",
       "<style scoped>\n",
       "    .dataframe tbody tr th:only-of-type {\n",
       "        vertical-align: middle;\n",
       "    }\n",
       "\n",
       "    .dataframe tbody tr th {\n",
       "        vertical-align: top;\n",
       "    }\n",
       "\n",
       "    .dataframe thead th {\n",
       "        text-align: right;\n",
       "    }\n",
       "</style>\n",
       "<table border=\"1\" class=\"dataframe\">\n",
       "  <thead>\n",
       "    <tr style=\"text-align: right;\">\n",
       "      <th>estado_civil</th>\n",
       "      <th>Casado</th>\n",
       "      <th>Solteiro</th>\n",
       "    </tr>\n",
       "    <tr>\n",
       "      <th>aplicacao</th>\n",
       "      <th></th>\n",
       "      <th></th>\n",
       "    </tr>\n",
       "  </thead>\n",
       "  <tbody>\n",
       "    <tr>\n",
       "      <th>Acoes</th>\n",
       "      <td>9</td>\n",
       "      <td>36</td>\n",
       "    </tr>\n",
       "    <tr>\n",
       "      <th>CDB</th>\n",
       "      <td>24</td>\n",
       "      <td>16</td>\n",
       "    </tr>\n",
       "    <tr>\n",
       "      <th>Poupanca</th>\n",
       "      <td>10</td>\n",
       "      <td>5</td>\n",
       "    </tr>\n",
       "  </tbody>\n",
       "</table>\n",
       "</div>"
      ],
      "text/plain": [
       "estado_civil  Casado  Solteiro\n",
       "aplicacao                     \n",
       "Acoes              9        36\n",
       "CDB               24        16\n",
       "Poupanca          10         5"
      ]
     },
     "execution_count": 31,
     "metadata": {},
     "output_type": "execute_result"
    }
   ],
   "source": [
    "tabela_mca_3"
   ]
  },
  {
   "cell_type": "code",
   "execution_count": 32,
   "metadata": {},
   "outputs": [],
   "source": [
    "# Análisando a significância estatística das associações \n",
    "chi2, pvalor, df1 , freq_esp = chi2_contingency(tabela_mca_1)"
   ]
  },
  {
   "cell_type": "code",
   "execution_count": 33,
   "metadata": {},
   "outputs": [
    {
     "name": "stdout",
     "output_type": "stream",
     "text": [
      "Associação 1\n",
      "estatística qui2: 31.764164976335362\n",
      "p-valor da estatística: 2.137594051381398e-06\n",
      "graus de liberdade: 4\n",
      "\n"
     ]
    }
   ],
   "source": [
    "print('Associação 1')\n",
    "print(f'estatística qui2: {chi2}') # estat[istica qui2\n",
    "print(f'p-valor da estatística: {pvalor}') # pvalor da estatística\n",
    "print(f'graus de liberdade: {df1}\\n') # gras de liberdade"
   ]
  },
  {
   "cell_type": "code",
   "execution_count": 34,
   "metadata": {},
   "outputs": [],
   "source": [
    "chi2, pvalor, df1 , freq_esp = chi2_contingency(tabela_mca_2)"
   ]
  },
  {
   "cell_type": "code",
   "execution_count": 35,
   "metadata": {},
   "outputs": [
    {
     "name": "stdout",
     "output_type": "stream",
     "text": [
      "Associação 2\n",
      "estatística qui2: 11.437563671904417\n",
      "p-valor da estatística: 0.0032837085626606414\n",
      "graus de liberdade: 2\n",
      "\n"
     ]
    }
   ],
   "source": [
    "print('Associação 2')\n",
    "print(f'estatística qui2: {chi2}') # estat[istica qui2\n",
    "print(f'p-valor da estatística: {pvalor}') # pvalor da estatística\n",
    "print(f'graus de liberdade: {df1}\\n') # gras de liberdade"
   ]
  },
  {
   "cell_type": "code",
   "execution_count": 36,
   "metadata": {},
   "outputs": [],
   "source": [
    "chi2, pvalor, df1 , freq_esp = chi2_contingency(tabela_mca_3)"
   ]
  },
  {
   "cell_type": "code",
   "execution_count": 37,
   "metadata": {},
   "outputs": [
    {
     "name": "stdout",
     "output_type": "stream",
     "text": [
      "Associação 3\n",
      "estatística qui2: 17.856657146742826\n",
      "p-valor da estatística: 0.00013257943624182006\n",
      "graus de liberdade: 2\n",
      "\n"
     ]
    }
   ],
   "source": [
    "print('Associação 3')\n",
    "print(f'estatística qui2: {chi2}') # estat[istica qui2\n",
    "print(f'p-valor da estatística: {pvalor}') # pvalor da estatística\n",
    "print(f'graus de liberdade: {df1}\\n') # gras de liberdade"
   ]
  },
  {
   "cell_type": "code",
   "execution_count": 38,
   "metadata": {},
   "outputs": [],
   "source": [
    "# Elaborando o MCA\n",
    "# Utilizando o método da matriz de Burt\n",
    "mca = prince.MCA()\n",
    "mca = mca.fit(df)"
   ]
  },
  {
   "cell_type": "code",
   "execution_count": 39,
   "metadata": {},
   "outputs": [
    {
     "name": "stdout",
     "output_type": "stream",
     "text": [
      "                              0         1\n",
      "perfil_Agressivo      -0.653069 -0.014732\n",
      "perfil_Conservador     1.129970  1.483614\n",
      "perfil_Moderado        0.746741 -0.974679\n",
      "aplicacao_Acoes       -0.831258  0.387515\n",
      "aplicacao_CDB          0.417184 -0.935143\n",
      "aplicacao_Poupanca     1.381285  1.331169\n",
      "estado_civil_Casado    0.843172 -0.131145\n",
      "estado_civil_Solteiro -0.636077  0.098934\n"
     ]
    }
   ],
   "source": [
    "# Obtendo as coordenadas nas duas dimensões do mapa\n",
    "print(mca.column_coordinates(df))"
   ]
  },
  {
   "cell_type": "code",
   "execution_count": 43,
   "metadata": {},
   "outputs": [
    {
     "data": {
      "text/html": [
       "<div>\n",
       "<style scoped>\n",
       "    .dataframe tbody tr th:only-of-type {\n",
       "        vertical-align: middle;\n",
       "    }\n",
       "\n",
       "    .dataframe tbody tr th {\n",
       "        vertical-align: top;\n",
       "    }\n",
       "\n",
       "    .dataframe thead th {\n",
       "        text-align: right;\n",
       "    }\n",
       "</style>\n",
       "<table border=\"1\" class=\"dataframe\">\n",
       "  <thead>\n",
       "    <tr style=\"text-align: right;\">\n",
       "      <th></th>\n",
       "      <th>0</th>\n",
       "      <th>1</th>\n",
       "    </tr>\n",
       "  </thead>\n",
       "  <tbody>\n",
       "    <tr>\n",
       "      <th>0</th>\n",
       "      <td>1.440751</td>\n",
       "      <td>1.354770</td>\n",
       "    </tr>\n",
       "    <tr>\n",
       "      <th>1</th>\n",
       "      <td>1.440751</td>\n",
       "      <td>1.354770</td>\n",
       "    </tr>\n",
       "    <tr>\n",
       "      <th>2</th>\n",
       "      <td>1.440751</td>\n",
       "      <td>1.354770</td>\n",
       "    </tr>\n",
       "    <tr>\n",
       "      <th>3</th>\n",
       "      <td>0.805403</td>\n",
       "      <td>1.470920</td>\n",
       "    </tr>\n",
       "    <tr>\n",
       "      <th>4</th>\n",
       "      <td>1.440751</td>\n",
       "      <td>1.354770</td>\n",
       "    </tr>\n",
       "    <tr>\n",
       "      <th>...</th>\n",
       "      <td>...</td>\n",
       "      <td>...</td>\n",
       "    </tr>\n",
       "    <tr>\n",
       "      <th>95</th>\n",
       "      <td>-0.910729</td>\n",
       "      <td>0.238135</td>\n",
       "    </tr>\n",
       "    <tr>\n",
       "      <th>96</th>\n",
       "      <td>-0.910729</td>\n",
       "      <td>0.238135</td>\n",
       "    </tr>\n",
       "    <tr>\n",
       "      <th>97</th>\n",
       "      <td>-0.910729</td>\n",
       "      <td>0.238135</td>\n",
       "    </tr>\n",
       "    <tr>\n",
       "      <th>98</th>\n",
       "      <td>-0.910729</td>\n",
       "      <td>0.238135</td>\n",
       "    </tr>\n",
       "    <tr>\n",
       "      <th>99</th>\n",
       "      <td>-0.910729</td>\n",
       "      <td>0.238135</td>\n",
       "    </tr>\n",
       "  </tbody>\n",
       "</table>\n",
       "<p>100 rows × 2 columns</p>\n",
       "</div>"
      ],
      "text/plain": [
       "           0         1\n",
       "0   1.440751  1.354770\n",
       "1   1.440751  1.354770\n",
       "2   1.440751  1.354770\n",
       "3   0.805403  1.470920\n",
       "4   1.440751  1.354770\n",
       "..       ...       ...\n",
       "95 -0.910729  0.238135\n",
       "96 -0.910729  0.238135\n",
       "97 -0.910729  0.238135\n",
       "98 -0.910729  0.238135\n",
       "99 -0.910729  0.238135\n",
       "\n",
       "[100 rows x 2 columns]"
      ]
     },
     "execution_count": 43,
     "metadata": {},
     "output_type": "execute_result"
    }
   ],
   "source": [
    "# Coordenada das linhas\n",
    "mca.row_coordinates(df)"
   ]
  },
  {
   "cell_type": "code",
   "execution_count": 41,
   "metadata": {},
   "outputs": [
    {
     "name": "stdout",
     "output_type": "stream",
     "text": [
      "[0.6023045112620055, 0.4359878227115959]\n"
     ]
    }
   ],
   "source": [
    "# Obtendo os eigenvalues\n",
    "print(mca.eigenvalues_)"
   ]
  },
  {
   "cell_type": "code",
   "execution_count": 42,
   "metadata": {},
   "outputs": [
    {
     "name": "stdout",
     "output_type": "stream",
     "text": [
      "1.6666666666666667\n"
     ]
    }
   ],
   "source": [
    "# Inércia principal total\n",
    "print(mca.total_inertia_)"
   ]
  },
  {
   "cell_type": "code",
   "execution_count": 44,
   "metadata": {},
   "outputs": [
    {
     "name": "stdout",
     "output_type": "stream",
     "text": [
      "[0.36138270675720324, 0.26159269362695753]\n"
     ]
    }
   ],
   "source": [
    "# Obtendo a variância\n",
    "print(mca.explained_inertia_)"
   ]
  },
  {
   "cell_type": "code",
   "execution_count": 47,
   "metadata": {},
   "outputs": [
    {
     "data": {
      "image/png": "[encoded data removed]",
      "text/plain": [
       "<Figure size 1200x1200 with 1 Axes>"
      ]
     },
     "metadata": {},
     "output_type": "display_data"
    }
   ],
   "source": [
    "# Plotando o mapa perceptual\n",
    "mpa_mca = mca.plot_coordinates(\n",
    "                X = df,\n",
    "                figsize=(12,12),\n",
    "                show_row_points=True,\n",
    "                show_column_points=True,\n",
    "                show_row_labels=False,\n",
    "                column_points_size=100,\n",
    "                show_column_labels=True,\n",
    "                legend_n_cols=2)"
   ]
  }
 ],
 "metadata": {
  "kernelspec": {
   "display_name": "Python 3",
   "language": "python",
   "name": "python3"
  },
  "language_info": {
   "codemirror_mode": {
    "name": "ipython",
    "version": 3
   },
   "file_extension": ".py",
   "mimetype": "text/x-python",
   "name": "python",
   "nbconvert_exporter": "python",
   "pygments_lexer": "ipython3",
   "version": "3.9.16"
  },
  "orig_nbformat": 4,
  "vscode": {
   "interpreter": {
    "hash": "a665b5d41d17b532ea9890333293a1b812fa0b73c9c25c950b3cedf1bebd0438"
   }
  }
 },
 "nbformat": 4,
 "nbformat_minor": 2
}
